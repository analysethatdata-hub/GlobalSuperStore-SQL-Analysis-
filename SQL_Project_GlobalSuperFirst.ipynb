{
 "cells": [
  {
   "cell_type": "markdown",
   "id": "bc6213df-c74c-4d60-a143-b424513a046d",
   "metadata": {},
   "source": [
    "# Import Libraries"
   ]
  },
  {
   "cell_type": "code",
   "execution_count": 1,
   "id": "232d8777-6009-4ff0-8a5a-4a55b01b0976",
   "metadata": {},
   "outputs": [],
   "source": [
    "import sqlalchemy\n",
    "import pypyodbc as odbc\n",
    "from sqlalchemy import create_engine\n",
    "from sqlalchemy import URL\n",
    "import pandas as pd"
   ]
  },
  {
   "cell_type": "markdown",
   "id": "506f6730-295c-4b81-9c9b-6b14212f2aa8",
   "metadata": {},
   "source": [
    "# Setup Connection String"
   ]
  },
  {
   "cell_type": "code",
   "execution_count": 2,
   "id": "b301e110-1664-467a-92f7-01c1c9ce5204",
   "metadata": {},
   "outputs": [],
   "source": [
    "DRIVER_NAME='SQL SERVER'\n",
    "SERVER_NAME='MALATA2'\n",
    "DATABASE_NAME='SQLPROJECTS'"
   ]
  },
  {
   "cell_type": "code",
   "execution_count": 3,
   "id": "9496c9ef-23ec-4df3-99a2-88f657074a34",
   "metadata": {},
   "outputs": [],
   "source": [
    "connection_string=f\"\"\"\n",
    "           DRIVER={DRIVER_NAME};SERVER={SERVER_NAME};DATABASE={DATABASE_NAME};\n",
    "           Trust_Connection=yes;\n",
    "\n",
    "\"\"\""
   ]
  },
  {
   "cell_type": "markdown",
   "id": "46ad9a8c-ff7b-474d-ad6d-2e9d325f1c44",
   "metadata": {},
   "source": [
    "# Create a Table in sql"
   ]
  },
  {
   "cell_type": "code",
   "execution_count": 4,
   "id": "52a8f45b-31d2-4572-8d0d-cb538832c0a7",
   "metadata": {},
   "outputs": [],
   "source": [
    "driver='{SQL Server}'\n",
    "server='MALATA2'\n",
    "database='SQLPROJECTS'"
   ]
  },
  {
   "cell_type": "code",
   "execution_count": 5,
   "id": "8152bbd5-3755-4a37-a6f9-1d6c1f8fb2b4",
   "metadata": {},
   "outputs": [],
   "source": [
    "connection_url=URL.create(drivername='mssql+pyodbc',query={'odbc_connect':f\"DRIVER={driver};SERVER={server};DATABASE={database}\"})"
   ]
  },
  {
   "cell_type": "code",
   "execution_count": 6,
   "id": "760e2e56-f8d1-433a-9da2-e1619e999ac8",
   "metadata": {},
   "outputs": [],
   "source": [
    "engine=create_engine(connection_url,module=odbc)"
   ]
  },
  {
   "cell_type": "code",
   "execution_count": 7,
   "id": "a84b1ada-250d-4980-b753-2e7bba528c2e",
   "metadata": {},
   "outputs": [],
   "source": [
    "df=pd.read_csv('Global_Superstore.csv')"
   ]
  },
  {
   "cell_type": "code",
   "execution_count": 8,
   "id": "d3b4ca19-6c48-4f6f-a230-d7bc8e79f181",
   "metadata": {},
   "outputs": [
    {
     "data": {
      "text/plain": [
       "57"
      ]
     },
     "execution_count": 8,
     "metadata": {},
     "output_type": "execute_result"
    }
   ],
   "source": [
    "df.to_sql(name='Global_Superstore.csv',con=engine,if_exists='replace',index=False,schema='dbo',dtype={\n",
    "    'row_id':sqlalchemy.types.INT, \n",
    "    'order_id':sqlalchemy.types.VARCHAR(50),\n",
    "    'order_date':sqlalchemy.types.DATE,\n",
    "    'ship_date':sqlalchemy.types.DATE,\n",
    "    'ship_mode':sqlalchemy.types.VARCHAR(50),\n",
    "    'customer_id':sqlalchemy.types.VARCHAR(50),\n",
    "    'customer_name':sqlalchemy.types.VARCHAR(50),\n",
    "    'segment':sqlalchemy.types.VARCHAR(25),\n",
    "    'city':sqlalchemy.types.VARCHAR(50),\n",
    "    'states':sqlalchemy.types.VARCHAR(50),\n",
    "    'country':sqlalchemy.types.VARCHAR(50),\n",
    "    'markets':sqlalchemy.types.VARCHAR(25),\n",
    "    'regions':sqlalchemy.types.VARCHAR(25),\n",
    "    'product_id':sqlalchemy.types.VARCHAR(50),\n",
    "    'categories':sqlalchemy.types.VARCHAR(50),\n",
    "    'sub_categories':sqlalchemy.types.VARCHAR(50),\n",
    "    'product_name':sqlalchemy.types.VARCHAR,\n",
    "    'quantities':sqlalchemy.types.INT,\n",
    "    'freightcost':sqlalchemy.types.FLOAT,\n",
    "    'order_priority':sqlalchemy.types.VARCHAR(25),\n",
    "    'years':sqlalchemy.types.INT,\n",
    "    'months':sqlalchemy.types.INT,\n",
    "    'sales':sqlalchemy.types.FLOAT\n",
    "})"
   ]
  },
  {
   "cell_type": "markdown",
   "id": "15b4ee1e-5616-4ed3-88e7-9e19f43d2054",
   "metadata": {},
   "source": [
    "# Create a function to connect to database"
   ]
  },
  {
   "cell_type": "code",
   "execution_count": 9,
   "id": "85ea3c5a-5f5d-4fbe-96d1-281f05fc5436",
   "metadata": {},
   "outputs": [],
   "source": [
    "def create_server_connection():\n",
    "    connection=None\n",
    "    try:\n",
    "        connection=odbc.connect(connection_string,autocommit=True)\n",
    "        print('Database connection successful')\n",
    "    except Error as e:\n",
    "        print(f\"Error :'{e}'\")\n",
    "    return connection"
   ]
  },
  {
   "cell_type": "code",
   "execution_count": 10,
   "id": "8051aca7-a73a-47e9-bfe9-7e8cd0c9cc93",
   "metadata": {},
   "outputs": [
    {
     "name": "stdout",
     "output_type": "stream",
     "text": [
      "Database connection successful\n"
     ]
    }
   ],
   "source": [
    "connection=create_server_connection()"
   ]
  },
  {
   "cell_type": "markdown",
   "id": "8ab968f3-fcfe-450b-8792-c3e0b4e71d1a",
   "metadata": {},
   "source": [
    "# Create a function to execute sql commands"
   ]
  },
  {
   "cell_type": "code",
   "execution_count": 11,
   "id": "5e0e7ae7-324e-456b-a9a8-1514cf4f2b41",
   "metadata": {},
   "outputs": [],
   "source": [
    "def read_query(connection,query):\n",
    "    cursor=connection.cursor()\n",
    "    result=None\n",
    "    try:\n",
    "        cursor.execute(query)\n",
    "        result=cursor.fetchall()\n",
    "        return result\n",
    "    except Error as e:\n",
    "        print(f\"Error : '{e}'\")\n",
    "    "
   ]
  },
  {
   "cell_type": "markdown",
   "id": "7145cb81-69e5-4eaf-b186-f4af6a7d6c4d",
   "metadata": {},
   "source": [
    "# Data Preprocessing"
   ]
  },
  {
   "cell_type": "code",
   "execution_count": 12,
   "id": "ffeb4c44-bf58-4d14-8ad2-886101b5a7f9",
   "metadata": {},
   "outputs": [
    {
     "name": "stdout",
     "output_type": "stream",
     "text": [
      "Database connection successful\n",
      "(32298, 'CA-2012-124891', '2012-07-31', '2012-07-31', 'Same Day', 'RH-19495', 'Rick Hansen', 'Consumer', 'New York City', 'New York', 'United States', 'US', 'East', 'TEC-AC-10003033', 'Technology', 'Accessories', 'Plantronics CS510 - Over-the-Head monaural Wireless Headset System', 7, 933.57, 'Critical', 2012, 7, 16167.550000000001)\n",
      "(26341, 'IN-2013-77878', '2013-02-05', '2013-02-07', 'Second Class', 'JR-16210', 'Justin Ritter', 'Corporate', 'Wollongong', 'New South Wales', 'Australia', 'APAC', 'Oceania', 'FUR-CH-10003950', 'Furniture', 'Chairs', 'Novimex Executive Leather Armchair, Black', 9, 923.63, 'Critical', 2013, 2, 33384.6)\n",
      "(25330, 'IN-2013-71249', '2013-10-17', '2013-10-18', 'First Class', 'CR-12730', 'Craig Reiter', 'Consumer', 'Brisbane', 'Queensland', 'Australia', 'APAC', 'Oceania', 'TEC-PH-10004664', 'Technology', 'Phones', 'Nokia Smart Phone, with Caller ID', 9, 915.49, 'Medium', 2013, 10, 46576.53)\n",
      "(13524, 'ES-2013-1579342', '2013-01-28', '2013-01-30', 'First Class', 'KM-16375', 'Katherine Murray', 'Home Office', 'Berlin', 'Berlin', 'Germany', 'EU', 'Central', 'TEC-PH-10004583', 'Technology', 'Phones', 'Motorola Smart Phone, Cordless', 5, 910.16, 'Medium', 2013, 1, 14462.550000000001)\n",
      "(47221, 'SG-2013-4320', '2013-11-05', '2013-11-06', 'Same Day', 'RH-9495', 'Rick Hansen', 'Consumer', 'Dakar', 'Dakar', 'Senegal', 'Africa', 'Africa', 'TEC-SHA-10000501', 'Technology', 'Copiers', 'Sharp Wireless Fax, High-Speed', 8, 903.04, 'Critical', 2013, 11, 22663.68)\n"
     ]
    }
   ],
   "source": [
    "Q1=\"\"\"\n",
    "select TOP 5 * from Global_Superstore\n",
    "\"\"\"\n",
    "create_server_connection()\n",
    "results=read_query(connection,Q1)\n",
    "\n",
    "for result in results:\n",
    "    print(result)"
   ]
  },
  {
   "cell_type": "markdown",
   "id": "89bda233-7e95-44bb-81f7-3d8ef65334c1",
   "metadata": {},
   "source": [
    "#### ***This query returns 5 records from the table***"
   ]
  },
  {
   "cell_type": "code",
   "execution_count": 13,
   "id": "a9b8bdcd-5796-4a71-8f81-da6c1d86a9b0",
   "metadata": {},
   "outputs": [
    {
     "name": "stdout",
     "output_type": "stream",
     "text": [
      "Database connection successful\n",
      "(51290,)\n"
     ]
    }
   ],
   "source": [
    "Q2=\"\"\"\n",
    "select count(*) as no_of_transactions from Global_Superstore\n",
    "\"\"\"\n",
    "create_server_connection()\n",
    "results=read_query(connection,Q2)\n",
    "\n",
    "for result in results:\n",
    "    print(result)"
   ]
  },
  {
   "cell_type": "markdown",
   "id": "f9523e13-dd89-4b56-bc5a-b68658d93299",
   "metadata": {},
   "source": [
    "#### ***This query counts the number of records in the table***"
   ]
  },
  {
   "cell_type": "code",
   "execution_count": 14,
   "id": "c387b8c4-7869-4e4f-98c2-67f076719f5b",
   "metadata": {},
   "outputs": [
    {
     "name": "stdout",
     "output_type": "stream",
     "text": [
      "Database connection successful\n"
     ]
    }
   ],
   "source": [
    "Q3=\"\"\"\n",
    "select * \n",
    "from Global_Superstore \n",
    "where row_id is null\n",
    "or order_id is null\n",
    "or order_date is null\n",
    "or ship_date is null \n",
    "or ship_mode is null\n",
    "or customer_id is null\n",
    "or customer_name is null\n",
    "or segment is null\n",
    "or city is null\n",
    "or states is null\n",
    "or countries is null\n",
    "or markets is null\n",
    "or regions is null\n",
    "or product_id is null\n",
    "or category is null\n",
    "or sub_category is null\n",
    "or product_name is null\n",
    "or quantities is null\n",
    "or freightcost is null \n",
    "or order_priority is null\n",
    "or years is null\n",
    "or months is null\n",
    "or sale is null\n",
    "\"\"\"\n",
    "\n",
    "create_server_connection()\n",
    "results=read_query(connection,Q3)\n",
    "\n",
    "for result in results:\n",
    "    print(result)"
   ]
  },
  {
   "cell_type": "markdown",
   "id": "6b6a36a5-5447-4eb9-8f9d-b5f62333b855",
   "metadata": {},
   "source": [
    "#### ***This query returns null values***"
   ]
  },
  {
   "cell_type": "code",
   "execution_count": 15,
   "id": "35a5fbcd-899b-4f9c-821f-56fe84e839ee",
   "metadata": {},
   "outputs": [
    {
     "name": "stdout",
     "output_type": "stream",
     "text": [
      "Database connection successful\n"
     ]
    }
   ],
   "source": [
    "Q4=\"\"\"\n",
    "select row_id,\n",
    "count(*) as no_of_transactions \n",
    "from Global_Superstore\n",
    "group by row_id\n",
    "having count(*) >1\n",
    "\"\"\"\n",
    "create_server_connection()\n",
    "results=read_query(connection,Q4)\n",
    "\n",
    "for result in results:\n",
    "    print(result)"
   ]
  },
  {
   "cell_type": "markdown",
   "id": "749b494a-6f8b-47ff-9ddb-6482b136bd97",
   "metadata": {},
   "source": [
    "#### ***This query handle/checks duplicate values***"
   ]
  },
  {
   "cell_type": "markdown",
   "id": "8b29caf0-bfe0-4e89-8e49-e99cce1f170e",
   "metadata": {},
   "source": [
    "# Handle/Check Categorical data"
   ]
  },
  {
   "cell_type": "code",
   "execution_count": 16,
   "id": "f7dc5199-855e-45e6-9745-30641606f868",
   "metadata": {},
   "outputs": [
    {
     "name": "stdout",
     "output_type": "stream",
     "text": [
      "Database connection successful\n",
      "('First Class',)\n",
      "('Same Day',)\n",
      "('Standard Class',)\n",
      "('Second Class',)\n"
     ]
    }
   ],
   "source": [
    "Q5=\"\"\"\n",
    "        select ship_mode \n",
    "\t\tfrom Global_Superstore\n",
    "\t\tgroup by ship_mode\n",
    "\"\"\"\n",
    "create_server_connection()\n",
    "results=read_query(connection,Q5)\n",
    "\n",
    "for result in results:\n",
    "    print(result)"
   ]
  },
  {
   "cell_type": "markdown",
   "id": "73d63cee-641a-400e-b930-2b3e44cef20f",
   "metadata": {},
   "source": [
    "#### ***This query returns the unique ship modes***"
   ]
  },
  {
   "cell_type": "code",
   "execution_count": 17,
   "id": "6c0b8274-04d9-4cf8-ac74-133ddba995f6",
   "metadata": {},
   "outputs": [
    {
     "name": "stdout",
     "output_type": "stream",
     "text": [
      "Database connection successful\n",
      "('RH-19495',)\n",
      "('JR-16210',)\n",
      "('CR-12730',)\n",
      "('KM-16375',)\n",
      "('RH-9495',)\n"
     ]
    }
   ],
   "source": [
    "Q6=\"\"\"\n",
    "        select top 5 customer_id \n",
    "\t\tfrom Global_Superstore\n",
    "\t\tgroup by customer_id \n",
    "\"\"\"\n",
    "create_server_connection()\n",
    "results=read_query(connection,Q6)\n",
    "\n",
    "for result in results:\n",
    "    print(result)"
   ]
  },
  {
   "cell_type": "markdown",
   "id": "4291f9e1-9c78-42dd-8896-30e82faec5d2",
   "metadata": {},
   "source": [
    "#### ***This query returns the unique customers id***"
   ]
  },
  {
   "cell_type": "code",
   "execution_count": 18,
   "id": "cd677b7f-d6c0-4340-9e99-3399aacd1c51",
   "metadata": {},
   "outputs": [
    {
     "name": "stdout",
     "output_type": "stream",
     "text": [
      "Database connection successful\n",
      "('Rick Hansen',)\n",
      "('Justin Ritter',)\n",
      "('Craig Reiter',)\n",
      "('Katherine Murray',)\n",
      "('Jim Mitchum',)\n"
     ]
    }
   ],
   "source": [
    "Q7=\"\"\"\n",
    "        select top 5 customer_name\n",
    "\t\tfrom Global_Superstore\n",
    "\t\tgroup by customer_name\n",
    "\"\"\"\n",
    "create_server_connection()\n",
    "results=read_query(connection,Q7)\n",
    "\n",
    "for result in results:\n",
    "    print(result)"
   ]
  },
  {
   "cell_type": "markdown",
   "id": "fd382a33-2b00-45ae-b1a5-96fa4e654f35",
   "metadata": {},
   "source": [
    "#### ***This query returns the unique customers names***"
   ]
  },
  {
   "cell_type": "code",
   "execution_count": 19,
   "id": "8b949200-1bb3-4ebf-b48c-2a640d093825",
   "metadata": {},
   "outputs": [
    {
     "name": "stdout",
     "output_type": "stream",
     "text": [
      "Database connection successful\n",
      "('Corporate',)\n",
      "('Home Office',)\n",
      "('Consumer',)\n"
     ]
    }
   ],
   "source": [
    "Q8=\"\"\"\n",
    "        select segment\n",
    "\t\tfrom Global_Superstore\n",
    "\t\tgroup by segment\n",
    "\"\"\"\n",
    "create_server_connection()\n",
    "results=read_query(connection,Q8)\n",
    "\n",
    "for result in results:\n",
    "    print(result)"
   ]
  },
  {
   "cell_type": "markdown",
   "id": "87b51def-9ce4-44fd-8c8f-5268550f0680",
   "metadata": {},
   "source": [
    "#### ***This query returns the unique segments***"
   ]
  },
  {
   "cell_type": "code",
   "execution_count": 20,
   "id": "d0d39ae0-669c-4aed-94bd-067d890ceefb",
   "metadata": {},
   "outputs": [
    {
     "name": "stdout",
     "output_type": "stream",
     "text": [
      "Database connection successful\n",
      "('New York City',)\n",
      "('Wollongong',)\n",
      "('Brisbane',)\n",
      "('Berlin',)\n",
      "('Dakar',)\n"
     ]
    }
   ],
   "source": [
    "Q9=\"\"\"\n",
    "        select top 5 city\n",
    "\t\tfrom Global_Superstore\n",
    "\t\tgroup by city\n",
    "\"\"\"\n",
    "create_server_connection()\n",
    "results=read_query(connection,Q9)\n",
    "\n",
    "for result in results:\n",
    "    print(result)"
   ]
  },
  {
   "cell_type": "markdown",
   "id": "ca3e50de-2c90-40ea-a31d-0fd2c981dd7c",
   "metadata": {},
   "source": [
    "#### ***This query returns the unique cities***"
   ]
  },
  {
   "cell_type": "code",
   "execution_count": 21,
   "id": "0e801dff-7b9b-40c3-af8a-0d327e3a334b",
   "metadata": {},
   "outputs": [
    {
     "name": "stdout",
     "output_type": "stream",
     "text": [
      "Database connection successful\n",
      "('New York',)\n",
      "('New South Wales',)\n",
      "('Queensland',)\n",
      "('Berlin',)\n",
      "('Dakar',)\n"
     ]
    }
   ],
   "source": [
    "Q10=\"\"\"\n",
    "        select top 5 states\n",
    "\t\tfrom Global_Superstore\n",
    "\t\tgroup by states\n",
    "\"\"\"\n",
    "create_server_connection()\n",
    "results=read_query(connection,Q10)\n",
    "\n",
    "for result in results:\n",
    "    print(result)"
   ]
  },
  {
   "cell_type": "markdown",
   "id": "6c08a6a9-eca4-4857-b009-cb4b09c1b92d",
   "metadata": {},
   "source": [
    "#### ***This query returns the unique states***"
   ]
  },
  {
   "cell_type": "code",
   "execution_count": 22,
   "id": "7dd61e3a-04c1-4a52-bc7c-473abbc79ac4",
   "metadata": {},
   "outputs": [
    {
     "name": "stdout",
     "output_type": "stream",
     "text": [
      "Database connection successful\n",
      "('United States',)\n",
      "('Australia',)\n",
      "('Germany',)\n",
      "('Senegal',)\n",
      "('New Zealand',)\n"
     ]
    }
   ],
   "source": [
    "Q11=\"\"\"\n",
    "        select top 5 countries\n",
    "\t\tfrom Global_Superstore\n",
    "\t\tgroup by countries\n",
    "\"\"\"\n",
    "create_server_connection()\n",
    "results=read_query(connection,Q11)\n",
    "\n",
    "for result in results:\n",
    "    print(result)"
   ]
  },
  {
   "cell_type": "markdown",
   "id": "4790262f-75bc-4d68-942a-08aeeedcaa33",
   "metadata": {},
   "source": [
    "#### ***This query returns the unique countries***"
   ]
  },
  {
   "cell_type": "code",
   "execution_count": 23,
   "id": "a7fd90ac-00ec-4a3d-b71f-6e789f237f7c",
   "metadata": {},
   "outputs": [
    {
     "name": "stdout",
     "output_type": "stream",
     "text": [
      "Database connection successful\n",
      "('EU',)\n",
      "('EMEA',)\n",
      "('Africa',)\n",
      "('LATAM',)\n",
      "('Canada',)\n",
      "('APAC',)\n",
      "('US',)\n"
     ]
    }
   ],
   "source": [
    "Q12=\"\"\"\n",
    "        select markets\n",
    "\t\tfrom Global_Superstore\n",
    "\t\tgroup by markets\n",
    "\"\"\"\n",
    "create_server_connection()\n",
    "results=read_query(connection,Q12)\n",
    "\n",
    "for result in results:\n",
    "    print(result)"
   ]
  },
  {
   "cell_type": "markdown",
   "id": "4145899b-0f39-4902-b5fb-f9f5dcb775e7",
   "metadata": {},
   "source": [
    "#### ***This query returns unique markets***"
   ]
  },
  {
   "cell_type": "code",
   "execution_count": 24,
   "id": "54080241-8e36-4cb3-84af-b690af83e361",
   "metadata": {},
   "outputs": [
    {
     "name": "stdout",
     "output_type": "stream",
     "text": [
      "Database connection successful\n",
      "('North',)\n",
      "('East',)\n",
      "('EMEA',)\n",
      "('Africa',)\n",
      "('North Asia',)\n",
      "('Oceania',)\n",
      "('Caribbean',)\n",
      "('South',)\n",
      "('Canada',)\n",
      "('Southeast Asia',)\n",
      "('Central Asia',)\n",
      "('West',)\n",
      "('Central',)\n"
     ]
    }
   ],
   "source": [
    "Q13=\"\"\"\n",
    "        select regions\n",
    "\t\tfrom Global_Superstore\n",
    "\t\tgroup by regions\n",
    "\"\"\"\n",
    "create_server_connection()\n",
    "results=read_query(connection,Q13)\n",
    "\n",
    "for result in results:\n",
    "    print(result)"
   ]
  },
  {
   "cell_type": "markdown",
   "id": "a1b29c1d-f330-43a5-9897-4af7ecf72b27",
   "metadata": {},
   "source": [
    "#### ***This query returns unique regions***"
   ]
  },
  {
   "cell_type": "code",
   "execution_count": 25,
   "id": "edbf9a4f-b2fd-4aeb-83ae-edc57d30e820",
   "metadata": {},
   "outputs": [
    {
     "name": "stdout",
     "output_type": "stream",
     "text": [
      "Database connection successful\n",
      "('Office Supplies',)\n",
      "('Furniture',)\n",
      "('Technology',)\n"
     ]
    }
   ],
   "source": [
    "Q14=\"\"\"\n",
    "        select category\n",
    "\t\tfrom Global_Superstore\n",
    "\t\tgroup by category\n",
    "\"\"\"\n",
    "create_server_connection()\n",
    "results=read_query(connection,Q14)\n",
    "\n",
    "for result in results:\n",
    "    print(result)"
   ]
  },
  {
   "cell_type": "markdown",
   "id": "9ddc375f-791a-4df7-949c-0622cfd80584",
   "metadata": {},
   "source": [
    "#### ***This query returns the unique categories***"
   ]
  },
  {
   "cell_type": "code",
   "execution_count": 26,
   "id": "cec4b75a-e681-4a6d-94ab-0250c7af74a5",
   "metadata": {},
   "outputs": [
    {
     "name": "stdout",
     "output_type": "stream",
     "text": [
      "Database connection successful\n",
      "('Supplies',)\n",
      "('Storage',)\n",
      "('Phones',)\n",
      "('Fasteners',)\n",
      "('Copiers',)\n",
      "('Chairs',)\n",
      "('Bookcases',)\n",
      "('Machines',)\n",
      "('Art',)\n",
      "('Envelopes',)\n",
      "('Binders',)\n",
      "('Labels',)\n",
      "('Furnishings',)\n",
      "('Accessories',)\n",
      "('Appliances',)\n",
      "('Paper',)\n",
      "('Tables',)\n"
     ]
    }
   ],
   "source": [
    "Q15=\"\"\"\n",
    "        select sub_category\n",
    "\t\tfrom Global_Superstore\n",
    "\t\tgroup by sub_category\n",
    "\"\"\"\n",
    "create_server_connection()\n",
    "results=read_query(connection,Q15)\n",
    "\n",
    "for result in results:\n",
    "    print(result)"
   ]
  },
  {
   "cell_type": "markdown",
   "id": "8bf4ff5e-a5b4-4663-83eb-8c6c89f2cd54",
   "metadata": {},
   "source": [
    "#### ***This query returns the unique subcategories***"
   ]
  },
  {
   "cell_type": "code",
   "execution_count": 27,
   "id": "056393b4-465f-436e-a831-fd2d3bf556c1",
   "metadata": {},
   "outputs": [
    {
     "name": "stdout",
     "output_type": "stream",
     "text": [
      "Database connection successful\n",
      "('Plantronics CS510 - Over-the-Head monaural Wireless Headset System',)\n",
      "('Novimex Executive Leather Armchair, Black',)\n",
      "('Nokia Smart Phone, with Caller ID',)\n",
      "('Motorola Smart Phone, Cordless',)\n",
      "('Sharp Wireless Fax, High-Speed',)\n"
     ]
    }
   ],
   "source": [
    "Q16=\"\"\"\n",
    "        select top 5 product_name\n",
    "\t\tfrom Global_Superstore\n",
    "\t\tgroup by product_name\n",
    "\"\"\"\n",
    "create_server_connection()\n",
    "results=read_query(connection,Q16)\n",
    "\n",
    "for result in results:\n",
    "    print(result)"
   ]
  },
  {
   "cell_type": "markdown",
   "id": "81bfb0ee-2c90-4ba1-9e29-1a0cb06b3151",
   "metadata": {},
   "source": [
    "#### ***This query returns the unique product names***"
   ]
  },
  {
   "cell_type": "code",
   "execution_count": 28,
   "id": "b93fceb7-6bf2-4e1f-8acf-2dd4f448d693",
   "metadata": {},
   "outputs": [
    {
     "name": "stdout",
     "output_type": "stream",
     "text": [
      "Database connection successful\n",
      "('Low',)\n",
      "('High',)\n",
      "('Medium',)\n",
      "('Critical',)\n"
     ]
    }
   ],
   "source": [
    "Q17=\"\"\"\n",
    "        select order_priority\n",
    "\t\tfrom Global_Superstore\n",
    "\t\tgroup by order_priority\n",
    "\"\"\"\n",
    "create_server_connection()\n",
    "results=read_query(connection,Q17)\n",
    "\n",
    "for result in results:\n",
    "    print(result)"
   ]
  },
  {
   "cell_type": "markdown",
   "id": "e76ec0f8-f474-42fa-9502-65a1fb14d2e6",
   "metadata": {},
   "source": [
    "#### ***This query returns unique order priority***"
   ]
  },
  {
   "cell_type": "code",
   "execution_count": 29,
   "id": "f79ad556-3158-478b-833b-967426744c5e",
   "metadata": {},
   "outputs": [
    {
     "name": "stdout",
     "output_type": "stream",
     "text": [
      "Database connection successful\n",
      "('Turkey', 59, 101)\n",
      "('United States', 49, 531)\n",
      "('China', 30, 240)\n",
      "('Mexico', 30, 122)\n",
      "('Nigeria', 30, 36)\n"
     ]
    }
   ],
   "source": [
    "Q18=\"\"\"\n",
    "        select top 5 countries,count(distinct states) as states,count(distinct city) as cities\n",
    "        from Global_Superstore \n",
    "        group by countries\n",
    "        order by count(distinct states) desc,count(distinct city) desc\n",
    "\n",
    "\"\"\"\n",
    "create_server_connection()\n",
    "results=read_query(connection,Q18)\n",
    "\n",
    "for result in results:\n",
    "    print(result)"
   ]
  },
  {
   "cell_type": "markdown",
   "id": "ea900233-255e-4a02-be0b-5c8f7647aaa5",
   "metadata": {},
   "source": [
    "#### ***This query returns the number of states and cities in each country***"
   ]
  },
  {
   "cell_type": "code",
   "execution_count": 30,
   "id": "84df3dad-207a-4f86-b572-d96adbd55fab",
   "metadata": {},
   "outputs": [
    {
     "name": "stdout",
     "output_type": "stream",
     "text": [
      "Database connection successful\n",
      "('Furniture', 4)\n",
      "('Technology', 4)\n",
      "('Office Supplies', 9)\n"
     ]
    }
   ],
   "source": [
    "Q19=\"\"\"\n",
    "        select category,count(distinct sub_category) as subcategories\n",
    "        from Global_Superstore \n",
    "        group by category\n",
    "        order by count(distinct sub_category)\n",
    "\n",
    "\"\"\"\n",
    "create_server_connection()\n",
    "results=read_query(connection,Q19)\n",
    "\n",
    "for result in results:\n",
    "    print(result)"
   ]
  },
  {
   "cell_type": "markdown",
   "id": "92ec0f9b-a62b-46c0-a679-cd316397e441",
   "metadata": {},
   "source": [
    "#### ***This query returns the number of subcategories in each category***"
   ]
  },
  {
   "cell_type": "markdown",
   "id": "8323db68-5853-4084-bb3d-79948361415a",
   "metadata": {},
   "source": [
    "# Data Exploration"
   ]
  },
  {
   "cell_type": "code",
   "execution_count": 31,
   "id": "d31b4962-4ed2-4ea2-b28e-6796790906ea",
   "metadata": {},
   "outputs": [
    {
     "name": "stdout",
     "output_type": "stream",
     "text": [
      "Database connection successful\n",
      "(61821273.04,)\n"
     ]
    }
   ],
   "source": [
    "Q20=\"\"\"\n",
    "        select round(sum(sale),2) as Total_Sales from Global_Superstore\n",
    "\n",
    "\"\"\"\n",
    "create_server_connection()\n",
    "results=read_query(connection,Q20)\n",
    "\n",
    "for result in results:\n",
    "    print(result)"
   ]
  },
  {
   "cell_type": "markdown",
   "id": "b82f1515-a8e9-4d74-b531-8f4d763736e2",
   "metadata": {},
   "source": [
    "#### ***This query returns total sales***"
   ]
  },
  {
   "cell_type": "code",
   "execution_count": 32,
   "id": "e21e6055-d6a3-40ec-8e5a-6834b4e0de9f",
   "metadata": {},
   "outputs": [
    {
     "name": "stdout",
     "output_type": "stream",
     "text": [
      "Database connection successful\n",
      "(2011, 11129605.66)\n",
      "(2012, 12962194.38)\n",
      "(2013, 16743659.74)\n",
      "(2014, 20985813.26)\n"
     ]
    }
   ],
   "source": [
    "Q21=\"\"\"\n",
    "        select year(order_date)as years,\n",
    "        round(sum(sale),2) as Total_Sales \n",
    "        from Global_Superstore \n",
    "        group by year(order_date)\n",
    "        order by year(order_date)\n",
    "\n",
    "\"\"\"\n",
    "create_server_connection()\n",
    "results=read_query(connection,Q21)\n",
    "\n",
    "for result in results:\n",
    "    print(result)"
   ]
  },
  {
   "cell_type": "markdown",
   "id": "718194c0-d108-48b6-9c8a-a90800cff29d",
   "metadata": {},
   "source": [
    "#### ***This query returns sales yearwise***"
   ]
  },
  {
   "cell_type": "code",
   "execution_count": 33,
   "id": "f643fd5a-dd90-43a2-8e0d-57ed057c4909",
   "metadata": {},
   "outputs": [
    {
     "name": "stdout",
     "output_type": "stream",
     "text": [
      "Database connection successful\n",
      "(2014, 11, 2686614.32)\n",
      "(2014, 12, 2488809.67)\n",
      "(2014, 9, 2395032.96)\n",
      "(2014, 8, 2218194.12)\n",
      "(2014, 10, 2128268.4)\n",
      "(2013, 12, 2111760.75)\n",
      "(2013, 6, 2041529.22)\n",
      "(2014, 6, 1995769.92)\n",
      "(2013, 11, 1816303.28)\n",
      "(2013, 9, 1770230.79)\n",
      "(2012, 12, 1688894.14)\n",
      "(2011, 12, 1627871.39)\n",
      "(2012, 8, 1562379.1)\n",
      "(2013, 8, 1540457.52)\n",
      "(2012, 11, 1521473.79)\n",
      "(2011, 11, 1506170.82)\n",
      "(2011, 9, 1459913.85)\n",
      "(2013, 10, 1405957.12)\n",
      "(2012, 9, 1395052.92)\n",
      "(2014, 5, 1334220.16)\n",
      "(2013, 5, 1278264.28)\n",
      "(2014, 3, 1245819.08)\n",
      "(2014, 7, 1233009.1)\n",
      "(2014, 1, 1230117.55)\n",
      "(2012, 10, 1219309.74)\n",
      "(2014, 4, 1171706.12)\n",
      "(2013, 7, 1099702.95)\n",
      "(2012, 6, 1092075.21)\n",
      "(2011, 8, 1066876.75)\n",
      "(2013, 1, 1029843.47)\n",
      "(2011, 6, 1011595.57)\n",
      "(2012, 5, 991665.45)\n",
      "(2013, 3, 967035.72)\n",
      "(2011, 10, 945367.16)\n",
      "(2013, 2, 885854.55)\n",
      "(2014, 2, 858251.86)\n",
      "(2012, 3, 827919.59)\n",
      "(2013, 4, 796720.09)\n",
      "(2012, 4, 781149.31)\n",
      "(2011, 5, 744481.49)\n",
      "(2011, 3, 720105.61)\n",
      "(2012, 7, 707845.08)\n",
      "(2012, 1, 689409.5)\n",
      "(2011, 4, 569976.56)\n",
      "(2011, 7, 534383.77)\n",
      "(2011, 2, 486085.21)\n",
      "(2012, 2, 485020.55)\n",
      "(2011, 1, 456777.48)\n"
     ]
    }
   ],
   "source": [
    "Q22=\"\"\"\n",
    "        select year(order_date)as years,month(order_date) as months,\n",
    "        round(sum(sale),2) as Total_Sales \n",
    "        from Global_Superstore \n",
    "        group by year(order_date),month(order_date)\n",
    "        order by Total_Sales desc\n",
    "\n",
    "\"\"\"\n",
    "create_server_connection()\n",
    "results=read_query(connection,Q22)\n",
    "\n",
    "for result in results:\n",
    "    print(result)"
   ]
  },
  {
   "cell_type": "markdown",
   "id": "07d45dd1-3eef-46d6-8fc9-1099a8b89ddf",
   "metadata": {},
   "source": [
    "#### ***This query returns sales by year and month***"
   ]
  },
  {
   "cell_type": "code",
   "execution_count": 34,
   "id": "9f20acfc-cb7a-4632-910f-4f313f6ff7ee",
   "metadata": {},
   "outputs": [
    {
     "name": "stdout",
     "output_type": "stream",
     "text": [
      "Database connection successful\n",
      "(2014, 11, 2686614.32)\n",
      "(2014, 12, 2488809.67)\n",
      "(2014, 9, 2395032.96)\n",
      "(2014, 8, 2218194.12)\n",
      "(2014, 10, 2128268.4)\n",
      "(2013, 12, 2111760.75)\n",
      "(2013, 6, 2041529.22)\n",
      "(2014, 6, 1995769.92)\n",
      "(2013, 11, 1816303.28)\n",
      "(2013, 9, 1770230.79)\n",
      "(2012, 12, 1688894.14)\n",
      "(2011, 12, 1627871.39)\n",
      "(2012, 8, 1562379.1)\n",
      "(2013, 8, 1540457.52)\n",
      "(2012, 11, 1521473.79)\n",
      "(2011, 11, 1506170.82)\n",
      "(2011, 9, 1459913.85)\n",
      "(2013, 10, 1405957.12)\n",
      "(2012, 9, 1395052.92)\n",
      "(2014, 5, 1334220.16)\n",
      "(2013, 5, 1278264.28)\n",
      "(2014, 3, 1245819.08)\n",
      "(2014, 7, 1233009.1)\n",
      "(2014, 1, 1230117.55)\n",
      "(2012, 10, 1219309.74)\n",
      "(2014, 4, 1171706.12)\n",
      "(2013, 7, 1099702.95)\n",
      "(2012, 6, 1092075.21)\n",
      "(2011, 8, 1066876.75)\n",
      "(2013, 1, 1029843.47)\n",
      "(2011, 6, 1011595.57)\n",
      "(2012, 5, 991665.45)\n",
      "(2013, 3, 967035.72)\n",
      "(2011, 10, 945367.16)\n",
      "(2013, 2, 885854.55)\n",
      "(2014, 2, 858251.86)\n",
      "(2012, 3, 827919.59)\n",
      "(2013, 4, 796720.09)\n",
      "(2012, 4, 781149.31)\n",
      "(2011, 5, 744481.49)\n",
      "(2011, 3, 720105.61)\n",
      "(2012, 7, 707845.08)\n",
      "(2012, 1, 689409.5)\n",
      "(2011, 4, 569976.56)\n",
      "(2011, 7, 534383.77)\n",
      "(2011, 2, 486085.21)\n",
      "(2012, 2, 485020.55)\n",
      "(2011, 1, 456777.48)\n"
     ]
    }
   ],
   "source": [
    "Q23=\"\"\"\n",
    "        select year(order_date)as years,month(order_date) as months,\n",
    "        round(sum(quantities),2) as Total_Sales \n",
    "        from Global_Superstore \n",
    "        group by year(order_date),month(order_date)\n",
    "        order by Total_Sales desc\n",
    "\n",
    "\"\"\"\n",
    "create_server_connection()\n",
    "results=read_query(connection,Q23)\n",
    "\n",
    "for result in results:\n",
    "    print(result)"
   ]
  },
  {
   "cell_type": "markdown",
   "id": "be966ed7-0ba7-4a23-aa90-31739cd959cd",
   "metadata": {},
   "source": [
    "#### ***This query returns quantities sold by year and month***"
   ]
  },
  {
   "cell_type": "code",
   "execution_count": 35,
   "id": "1a14ae07-ed17-4fa5-af8f-1d381d65982e",
   "metadata": {},
   "outputs": [
    {
     "name": "stdout",
     "output_type": "stream",
     "text": [
      "Database connection successful\n",
      "(2011, 11129605.66, 11129605.66, 0.0)\n",
      "(2012, 12962194.38, 11129605.66, 16.0)\n",
      "(2013, 16743659.74, 12962194.38, 28.999999999999996)\n",
      "(2014, 20985813.26, 16743659.74, 25.0)\n"
     ]
    }
   ],
   "source": [
    "Q24=\"\"\"\n",
    "        with curr as(\n",
    "        select year(order_date) as years,round(SUM(sale),2) as Total_Sales\n",
    "        from Global_Superstore\n",
    "        group by year(order_date)\n",
    "        --order by year(order_date)\n",
    "        ), prev_yr as(\n",
    "        select *,\n",
    "        LAG(Total_Sales,1,Total_Sales) over(order by years) as prev_sales\n",
    "        from curr\n",
    "        )\n",
    "        select *,\n",
    "        round((Total_Sales-prev_sales)/prev_sales,2)*100 as YoY\n",
    "        from prev_yr\n",
    "\n",
    "\"\"\"\n",
    "create_server_connection()\n",
    "results=read_query(connection,Q24)\n",
    "\n",
    "for result in results:\n",
    "    print(result)"
   ]
  },
  {
   "cell_type": "markdown",
   "id": "da925efe-5ba6-49f9-b7c3-6059e69fee8f",
   "metadata": {},
   "source": [
    "#### ***This query returns YoY percentage change***"
   ]
  },
  {
   "cell_type": "code",
   "execution_count": 36,
   "id": "04901708-3635-4ce3-936d-c5da19118849",
   "metadata": {},
   "outputs": [
    {
     "name": "stdout",
     "output_type": "stream",
     "text": [
      "Database connection successful\n",
      "(2011, 31443, 31443, 0)\n",
      "(2012, 38111, 31443, 0)\n",
      "(2013, 48136, 38111, 0)\n",
      "(2014, 60622, 48136, 0)\n"
     ]
    }
   ],
   "source": [
    "Q25=\"\"\"\n",
    "        with curr_qt as(\n",
    "        select year(order_date) as years,round(SUM(quantities),2) as Total_Quantities\n",
    "        from Global_Superstore\n",
    "        group by year(order_date)\n",
    "        --order by year(order_date)\n",
    "        ), prev_yr_qt as(\n",
    "        select *,\n",
    "        LAG(Total_Quantities,1,Total_Quantities) over(order by years) as prev_quantities\n",
    "        from curr_qt\n",
    "        )\n",
    "        select *,\n",
    "        round((Total_Quantities-prev_quantities)/prev_quantities,2)*100 as YoY_qt\n",
    "        from prev_yr_qt\n",
    "\n",
    "\"\"\"\n",
    "create_server_connection()\n",
    "results=read_query(connection,Q25)\n",
    "\n",
    "for result in results:\n",
    "    print(result)"
   ]
  },
  {
   "cell_type": "code",
   "execution_count": 37,
   "id": "4f575cee-df48-40bd-a9c3-305365fa6210",
   "metadata": {},
   "outputs": [
    {
     "name": "stdout",
     "output_type": "stream",
     "text": [
      "Database connection successful\n",
      "(2011, 1, 456777.48, 456777.48, 0.0)\n",
      "(2011, 2, 486085.21, 456777.48, 6.0)\n",
      "(2011, 3, 720105.61, 486085.21, 48.0)\n",
      "(2011, 4, 569976.56, 720105.61, -21.0)\n",
      "(2011, 5, 744481.49, 569976.56, 31.0)\n",
      "(2011, 6, 1011595.57, 744481.49, 36.0)\n",
      "(2011, 7, 534383.77, 1011595.57, -47.0)\n",
      "(2011, 8, 1066876.75, 534383.77, 100.0)\n",
      "(2011, 9, 1459913.85, 1066876.75, 37.0)\n",
      "(2011, 10, 945367.16, 1459913.85, -35.0)\n",
      "(2011, 11, 1506170.82, 945367.16, 59.0)\n",
      "(2011, 12, 1627871.39, 1506170.82, 8.0)\n",
      "(2012, 1, 689409.5, 1627871.39, -57.99999999999999)\n",
      "(2012, 2, 485020.55, 689409.5, -30.0)\n",
      "(2012, 3, 827919.59, 485020.55, 71.0)\n",
      "(2012, 4, 781149.31, 827919.59, -6.0)\n",
      "(2012, 5, 991665.45, 781149.31, 27.0)\n",
      "(2012, 6, 1092075.21, 991665.45, 10.0)\n",
      "(2012, 7, 707845.08, 1092075.21, -35.0)\n",
      "(2012, 8, 1562379.1, 707845.08, 121.0)\n",
      "(2012, 9, 1395052.92, 1562379.1, -11.0)\n",
      "(2012, 10, 1219309.74, 1395052.92, -13.0)\n",
      "(2012, 11, 1521473.79, 1219309.74, 25.0)\n",
      "(2012, 12, 1688894.14, 1521473.79, 11.0)\n",
      "(2013, 1, 1029843.47, 1688894.14, -39.0)\n",
      "(2013, 2, 885854.55, 1029843.47, -14.000000000000002)\n",
      "(2013, 3, 967035.72, 885854.55, 9.0)\n",
      "(2013, 4, 796720.09, 967035.72, -18.0)\n",
      "(2013, 5, 1278264.28, 796720.09, 60.0)\n",
      "(2013, 6, 2041529.22, 1278264.28, 60.0)\n",
      "(2013, 7, 1099702.95, 2041529.22, -46.0)\n",
      "(2013, 8, 1540457.52, 1099702.95, 40.0)\n",
      "(2013, 9, 1770230.79, 1540457.52, 15.0)\n",
      "(2013, 10, 1405957.12, 1770230.79, -21.0)\n",
      "(2013, 11, 1816303.28, 1405957.12, 28.999999999999996)\n",
      "(2013, 12, 2111760.75, 1816303.28, 16.0)\n",
      "(2014, 1, 1230117.55, 2111760.75, -42.0)\n",
      "(2014, 2, 858251.86, 1230117.55, -30.0)\n",
      "(2014, 3, 1245819.08, 858251.86, 45.0)\n",
      "(2014, 4, 1171706.12, 1245819.08, -6.0)\n",
      "(2014, 5, 1334220.16, 1171706.12, 14.000000000000002)\n",
      "(2014, 6, 1995769.92, 1334220.16, 50.0)\n",
      "(2014, 7, 1233009.1, 1995769.92, -38.0)\n",
      "(2014, 8, 2218194.12, 1233009.1, 80.0)\n",
      "(2014, 9, 2395032.96, 2218194.12, 8.0)\n",
      "(2014, 10, 2128268.4, 2395032.96, -11.0)\n",
      "(2014, 11, 2686614.32, 2128268.4, 26.0)\n",
      "(2014, 12, 2488809.67, 2686614.32, -7.000000000000001)\n"
     ]
    }
   ],
   "source": [
    "Q26=\"\"\"\n",
    "        with mon as(\n",
    "        select year(order_date)as years,month(order_date) as months,\n",
    "        round(sum(sale),2) as Total_Sales \n",
    "        from Global_Superstore \n",
    "        group by year(order_date),month(order_date)\n",
    "        --order by year(order_date) desc,month(order_date) desc\n",
    "        ),prev_mon as(\n",
    "        select *,\n",
    "        LAG(Total_Sales,1,Total_Sales) over(order by years,months) as prev_months\n",
    "        from mon\n",
    "        )\n",
    "        select *,\n",
    "        round((Total_Sales-prev_months)/prev_months,2)*100 as MoM\n",
    "        from prev_mon\n",
    "\n",
    "\"\"\"\n",
    "create_server_connection()\n",
    "results=read_query(connection,Q26)\n",
    "\n",
    "for result in results:\n",
    "    print(result)"
   ]
  },
  {
   "cell_type": "markdown",
   "id": "aeb7b2c7-7a7e-4556-b1ea-7f0b7a388da1",
   "metadata": {},
   "source": [
    "#### ***This query returns MoM percentage change***"
   ]
  },
  {
   "cell_type": "code",
   "execution_count": 38,
   "id": "8ec6eb6a-b756-4a47-9dee-8a2c28020b9c",
   "metadata": {},
   "outputs": [
    {
     "name": "stdout",
     "output_type": "stream",
     "text": [
      "Database connection successful\n",
      "(2011, 1, 1463, 1463, 0)\n",
      "(2011, 2, 1224, 1463, 0)\n",
      "(2011, 3, 1836, 1224, 0)\n",
      "(2011, 4, 2020, 1836, 0)\n",
      "(2011, 5, 2013, 2020, 0)\n",
      "(2011, 6, 3112, 2013, 0)\n",
      "(2011, 7, 1774, 3112, 0)\n",
      "(2011, 8, 3035, 1774, 0)\n",
      "(2011, 9, 3707, 3035, 0)\n",
      "(2011, 10, 2727, 3707, 0)\n",
      "(2011, 11, 4039, 2727, 0)\n",
      "(2011, 12, 4493, 4039, 0)\n",
      "(2012, 1, 1845, 4493, 0)\n",
      "(2012, 2, 1473, 1845, 0)\n",
      "(2012, 3, 2237, 1473, 0)\n",
      "(2012, 4, 2250, 2237, 0)\n",
      "(2012, 5, 2921, 2250, 0)\n",
      "(2012, 6, 3671, 2921, 0)\n",
      "(2012, 7, 2321, 3671, 0)\n",
      "(2012, 8, 3818, 2321, 0)\n",
      "(2012, 9, 4205, 3818, 0)\n",
      "(2012, 10, 3563, 4205, 0)\n",
      "(2012, 11, 5193, 3563, 0)\n",
      "(2012, 12, 4614, 5193, 0)\n",
      "(2013, 1, 2413, 4614, 0)\n",
      "(2013, 2, 2102, 2413, 0)\n",
      "(2013, 3, 2686, 2102, 0)\n",
      "(2013, 4, 2688, 2686, 0)\n",
      "(2013, 5, 3808, 2688, 0)\n",
      "(2013, 6, 5327, 3808, 0)\n",
      "(2013, 7, 3252, 5327, 0)\n",
      "(2013, 8, 4934, 3252, 0)\n",
      "(2013, 9, 5793, 4934, 0)\n",
      "(2013, 10, 3883, 5793, 0)\n",
      "(2013, 11, 5556, 3883, 0)\n",
      "(2013, 12, 5694, 5556, 0)\n",
      "(2014, 1, 3122, 5694, 0)\n",
      "(2014, 2, 2482, 3122, 0)\n",
      "(2014, 3, 3722, 2482, 0)\n",
      "(2014, 4, 3594, 3722, 0)\n",
      "(2014, 5, 4300, 3594, 0)\n",
      "(2014, 6, 6009, 4300, 0)\n",
      "(2014, 7, 3637, 6009, 0)\n",
      "(2014, 8, 5824, 3637, 0)\n",
      "(2014, 9, 6837, 5824, 0)\n",
      "(2014, 10, 5876, 6837, 0)\n",
      "(2014, 11, 7706, 5876, 0)\n",
      "(2014, 12, 7513, 7706, 0)\n"
     ]
    }
   ],
   "source": [
    "Q27=\"\"\"\n",
    "        with mon_qt as(\n",
    "        select year(order_date)as years,month(order_date) as months,\n",
    "        round(sum(quantities),2) as Total_Quantities \n",
    "        from Global_Superstore \n",
    "        group by year(order_date),month(order_date)\n",
    "        --order by year(order_date) desc,month(order_date) desc\n",
    "        ),prev_mon_qt as(\n",
    "        select *,\n",
    "        LAG(Total_Quantities,1,Total_Quantities) over(order by years,months) as prev_months_qt\n",
    "        from mon_qt\n",
    "        )\n",
    "        select *,\n",
    "        round((Total_Quantities-prev_months_qt)/prev_months_qt,2)*100 as MoM_qt\n",
    "        from prev_mon_qt\n",
    "\n",
    "\n",
    "\"\"\"\n",
    "create_server_connection()\n",
    "results=read_query(connection,Q27)\n",
    "\n",
    "for result in results:\n",
    "    print(result)"
   ]
  },
  {
   "cell_type": "code",
   "execution_count": 39,
   "id": "22a230ce-4070-4ed8-9d7a-d1a4be07ba50",
   "metadata": {},
   "outputs": [
    {
     "name": "stdout",
     "output_type": "stream",
     "text": [
      "Database connection successful\n",
      "('Technology', 'Phones', 8402119.96)\n",
      "('Furniture', 'Chairs', 7446715.53)\n",
      "('Technology', 'Copiers', 7174849.55)\n",
      "('Furniture', 'Bookcases', 7061787.75)\n",
      "('Office Supplies', 'Storage', 5486168.87)\n",
      "('Office Supplies', 'Appliances', 5029154.37)\n",
      "('Technology', 'Accessories', 3805274.95)\n",
      "('Technology', 'Machines', 3665046.36)\n",
      "('Furniture', 'Tables', 3656508.21)\n",
      "('Office Supplies', 'Binders', 2289169.7)\n",
      "('Furniture', 'Furnishings', 1923668.95)\n",
      "('Office Supplies', 'Art', 1825377.85)\n",
      "('Office Supplies', 'Paper', 1239769.93)\n",
      "('Office Supplies', 'Supplies', 1190649.94)\n",
      "('Office Supplies', 'Envelopes', 837352.68)\n",
      "('Office Supplies', 'Fasteners', 407746.62)\n",
      "('Office Supplies', 'Labels', 379911.82)\n"
     ]
    }
   ],
   "source": [
    "Q28=\"\"\"\n",
    "        select category,sub_category,round(sum(sale),2) as Total_Sales\n",
    "        from Global_Superstore \n",
    "        group by category,sub_category\n",
    "        order by Total_Sales desc\n",
    "\n",
    "\n",
    "\"\"\"\n",
    "create_server_connection()\n",
    "results=read_query(connection,Q28)\n",
    "\n",
    "for result in results:\n",
    "    print(result)"
   ]
  },
  {
   "cell_type": "markdown",
   "id": "02762be2-7192-4238-b9dd-b444053f9b99",
   "metadata": {},
   "source": [
    "#### ***This query returns sales by subcategory***"
   ]
  },
  {
   "cell_type": "code",
   "execution_count": 40,
   "id": "01dbed35-feaf-4a96-bd15-5c5369933ffd",
   "metadata": {},
   "outputs": [
    {
     "name": "stdout",
     "output_type": "stream",
     "text": [
      "Database connection successful\n",
      "('Office Supplies', 'Binders', 21429)\n",
      "('Office Supplies', 'Storage', 16917)\n",
      "('Office Supplies', 'Art', 16301)\n",
      "('Office Supplies', 'Paper', 12822)\n",
      "('Furniture', 'Chairs', 12336)\n",
      "('Technology', 'Phones', 11870)\n",
      "('Furniture', 'Furnishings', 11225)\n",
      "('Technology', 'Accessories', 10946)\n",
      "('Office Supplies', 'Labels', 9322)\n",
      "('Office Supplies', 'Supplies', 8543)\n",
      "('Office Supplies', 'Fasteners', 8390)\n",
      "('Office Supplies', 'Envelopes', 8380)\n",
      "('Furniture', 'Bookcases', 8310)\n",
      "('Technology', 'Copiers', 7454)\n",
      "('Office Supplies', 'Appliances', 6078)\n",
      "('Technology', 'Machines', 4906)\n",
      "('Furniture', 'Tables', 3083)\n"
     ]
    }
   ],
   "source": [
    "Q29=\"\"\"\n",
    "        select category,sub_category,round(sum(quantities),2) as Total_Quantities\n",
    "        from Global_Superstore \n",
    "        group by category,sub_category\n",
    "        order by Total_Quantities desc\n",
    "\n",
    "\n",
    "\"\"\"\n",
    "create_server_connection()\n",
    "results=read_query(connection,Q29)\n",
    "\n",
    "for result in results:\n",
    "    print(result)"
   ]
  },
  {
   "cell_type": "markdown",
   "id": "8d2807f5-ad82-4d3b-82cc-fe545659b3ce",
   "metadata": {},
   "source": [
    "#### ***This query returns sales volume by subcategories***"
   ]
  },
  {
   "cell_type": "code",
   "execution_count": 41,
   "id": "d1c6a7c5-a6a9-4941-9b4d-a2e52b9c106b",
   "metadata": {},
   "outputs": [
    {
     "name": "stdout",
     "output_type": "stream",
     "text": [
      "Database connection successful\n",
      "('Technology', 'Phones', 184902.77)\n",
      "('Furniture', 'Chairs', 164229.85)\n",
      "('Technology', 'Copiers', 159496.49)\n",
      "('Furniture', 'Bookcases', 155482.23)\n",
      "('Office Supplies', 'Storage', 120546.46)\n",
      "('Office Supplies', 'Appliances', 108300.78)\n",
      "('Technology', 'Accessories', 83513.58)\n",
      "('Furniture', 'Tables', 79861.46)\n",
      "('Technology', 'Machines', 79135.9)\n",
      "('Office Supplies', 'Binders', 48181.99)\n",
      "('Office Supplies', 'Art', 41287.47)\n",
      "('Furniture', 'Furnishings', 40747.12)\n",
      "('Office Supplies', 'Paper', 26661.29)\n",
      "('Office Supplies', 'Supplies', 24812.05)\n",
      "('Office Supplies', 'Envelopes', 18547.78)\n",
      "('Office Supplies', 'Fasteners', 9053.59)\n",
      "('Office Supplies', 'Labels', 8059.88)\n"
     ]
    }
   ],
   "source": [
    "Q30=\"\"\"\n",
    "        select category,sub_category,round(sum(freightcost),2) as Total_Cost\n",
    "        from Global_Superstore \n",
    "        group by category,sub_category\n",
    "        order by Total_Cost desc\n",
    "\n",
    "\n",
    "\"\"\"\n",
    "create_server_connection()\n",
    "results=read_query(connection,Q30)\n",
    "\n",
    "for result in results:\n",
    "    print(result)"
   ]
  },
  {
   "cell_type": "markdown",
   "id": "2c4eb83b-99e4-4281-96fb-cd00daa18917",
   "metadata": {},
   "source": [
    "#### ***This query returns freight cost by subcategory***"
   ]
  },
  {
   "cell_type": "code",
   "execution_count": null,
   "id": "f0f63316-e339-44ec-bfcf-506947571bf7",
   "metadata": {},
   "outputs": [],
   "source": []
  }
 ],
 "metadata": {
  "kernelspec": {
   "display_name": "Python 3 (ipykernel)",
   "language": "python",
   "name": "python3"
  },
  "language_info": {
   "codemirror_mode": {
    "name": "ipython",
    "version": 3
   },
   "file_extension": ".py",
   "mimetype": "text/x-python",
   "name": "python",
   "nbconvert_exporter": "python",
   "pygments_lexer": "ipython3",
   "version": "3.13.3"
  }
 },
 "nbformat": 4,
 "nbformat_minor": 5
}
